{
 "cells": [
  {
   "cell_type": "markdown",
   "id": "85c0da8a",
   "metadata": {},
   "source": [
    "# Some tricks for work"
   ]
  },
  {
   "cell_type": "markdown",
   "id": "6c8c094a",
   "metadata": {},
   "source": [
    "## Part 2: Exploratory Data Analysis."
   ]
  },
  {
   "cell_type": "markdown",
   "id": "261a2b1a",
   "metadata": {},
   "source": [
    "* ### convertation values"
   ]
  },
  {
   "cell_type": "code",
   "execution_count": null,
   "id": "7557b5a1",
   "metadata": {},
   "outputs": [],
   "source": [
    "# convert volumn's values to binary format\n",
    "# lambda function; wine quality from 3-6 == 0, from 7-9 == 1.\n",
    "dataset['quality'] = dataset.quality.apply(lambda q: 0 if q <= 6 else 1)"
   ]
  },
  {
   "cell_type": "markdown",
   "id": "df98bc3f",
   "metadata": {},
   "source": [
    "* ## Resampling of an imbalanced dataset"
   ]
  },
  {
   "cell_type": "markdown",
   "id": "6fbd0479",
   "metadata": {},
   "source": [
    "* ### 'quality' attribute value counts and visualisation"
   ]
  },
  {
   "cell_type": "code",
   "execution_count": null,
   "id": "f743c903",
   "metadata": {},
   "outputs": [],
   "source": [
    "print('Not good wine', round(dataset['quality'].value_counts()[0]/len(dataset) * 100,2), '% of the dataset')\n",
    "print('Good wine', round(dataset['quality'].value_counts()[1]/len(dataset) * 100,2), '% of the dataset')\n",
    "\n",
    "dataset['quality'].value_counts()"
   ]
  },
  {
   "cell_type": "code",
   "execution_count": null,
   "id": "544e1110",
   "metadata": {},
   "outputs": [],
   "source": [
    "# visualisation plot\n",
    "dataset['quality'].value_counts().plot(x = dataset['quality'], kind='bar')"
   ]
  },
  {
   "cell_type": "code",
   "execution_count": null,
   "id": "b72d43c3",
   "metadata": {},
   "outputs": [],
   "source": [
    "# class count - for all below!!!\n",
    "#count_class_0, count_class_1 = dataset.quality.value_counts()\n",
    "\n",
    "# divide by class\n",
    "#class_0 = dataset[dataset['quality'] == 0]\n",
    "#class_1 = dataset[dataset['quality'] == 1]"
   ]
  },
  {
   "cell_type": "code",
   "execution_count": null,
   "id": "aa6d60e7",
   "metadata": {},
   "outputs": [],
   "source": []
  },
  {
   "cell_type": "code",
   "execution_count": null,
   "id": "cce218e0",
   "metadata": {},
   "outputs": [],
   "source": []
  },
  {
   "cell_type": "code",
   "execution_count": null,
   "id": "9b21ffb3",
   "metadata": {},
   "outputs": [],
   "source": []
  },
  {
   "cell_type": "code",
   "execution_count": null,
   "id": "a16d3e42",
   "metadata": {},
   "outputs": [],
   "source": []
  },
  {
   "cell_type": "markdown",
   "id": "9b6eb59c",
   "metadata": {},
   "source": [
    "* ## Visualisation"
   ]
  },
  {
   "cell_type": "markdown",
   "id": "64b7317b",
   "metadata": {},
   "source": [
    "* ### visualisation of 'Profit' distribution"
   ]
  },
  {
   "cell_type": "code",
   "execution_count": null,
   "id": "42614535",
   "metadata": {},
   "outputs": [],
   "source": [
    "#sns.displot(train['Profit'], color='g', kde=True)\n",
    "sns.histplot(train['Profit'], color='g', kde=True)"
   ]
  }
 ],
 "metadata": {
  "kernelspec": {
   "display_name": "Python 3",
   "language": "python",
   "name": "python3"
  },
  "language_info": {
   "codemirror_mode": {
    "name": "ipython",
    "version": 3
   },
   "file_extension": ".py",
   "mimetype": "text/x-python",
   "name": "python",
   "nbconvert_exporter": "python",
   "pygments_lexer": "ipython3",
   "version": "3.8.12"
  }
 },
 "nbformat": 4,
 "nbformat_minor": 5
}
