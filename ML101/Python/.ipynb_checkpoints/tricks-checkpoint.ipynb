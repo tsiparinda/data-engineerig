{
 "cells": [
  {
   "cell_type": "markdown",
   "id": "185652d1",
   "metadata": {},
   "source": [
    "# Some tricks for work"
   ]
  },
  {
   "cell_type": "raw",
   "id": "088eb793",
   "metadata": {},
   "source": [
    "https://git-scm.com/book/ru/v2/\n",
    "https://www.markdownguide.org/basic-syntax/\n",
    "https://www.tablesgenerator.com/markdown_tables\n",
    "https://elipapa.github.io/markdown-cv/"
   ]
  },
  {
   "cell_type": "markdown",
   "id": "8ab5e493",
   "metadata": {},
   "source": [
    "## Part 2: Exploratory Data Analysis."
   ]
  },
  {
   "cell_type": "markdown",
   "id": "145336e5",
   "metadata": {},
   "source": [
    "* ### convertation values"
   ]
  },
  {
   "cell_type": "code",
   "execution_count": null,
   "id": "b372b082",
   "metadata": {},
   "outputs": [],
   "source": [
    "# convert volumn's values to binary format\n",
    "# lambda function; wine quality from 3-6 == 0, from 7-9 == 1.\n",
    "dataset['quality'] = dataset.quality.apply(lambda q: 0 if q <= 6 else 1)"
   ]
  },
  {
   "cell_type": "markdown",
   "id": "d8b65be8",
   "metadata": {},
   "source": [
    "* ## Resampling of an imbalanced dataset"
   ]
  },
  {
   "cell_type": "markdown",
   "id": "36780dc5",
   "metadata": {},
   "source": [
    "* ### 'quality' attribute value counts and visualisation"
   ]
  },
  {
   "cell_type": "code",
   "execution_count": null,
   "id": "b5f07149",
   "metadata": {},
   "outputs": [],
   "source": [
    "print('Not good wine', round(dataset['quality'].value_counts()[0]/len(dataset) * 100,2), '% of the dataset')\n",
    "print('Good wine', round(dataset['quality'].value_counts()[1]/len(dataset) * 100,2), '% of the dataset')\n",
    "\n",
    "dataset['quality'].value_counts()"
   ]
  },
  {
   "cell_type": "code",
   "execution_count": null,
   "id": "5b74b217",
   "metadata": {},
   "outputs": [],
   "source": [
    "# visualisation plot\n",
    "dataset['quality'].value_counts().plot(x = dataset['quality'], kind='bar')"
   ]
  },
  {
   "cell_type": "code",
   "execution_count": null,
   "id": "a9e64c5d",
   "metadata": {},
   "outputs": [],
   "source": [
    "# class count - for all below!!!\n",
    "#count_class_0, count_class_1 = dataset.quality.value_counts()\n",
    "\n",
    "# divide by class\n",
    "#class_0 = dataset[dataset['quality'] == 0]\n",
    "#class_1 = dataset[dataset['quality'] == 1]"
   ]
  },
  {
   "cell_type": "code",
   "execution_count": null,
   "id": "1e509ee7",
   "metadata": {},
   "outputs": [],
   "source": []
  },
  {
   "cell_type": "code",
   "execution_count": null,
   "id": "905535b8",
   "metadata": {},
   "outputs": [],
   "source": []
  },
  {
   "cell_type": "code",
   "execution_count": null,
   "id": "5a718832",
   "metadata": {},
   "outputs": [],
   "source": []
  },
  {
   "cell_type": "markdown",
   "id": "9b9b5ee2",
   "metadata": {},
   "source": [
    "|col1|col2|\n",
    "|---|---|\n",
    "|paragraf|text|\n",
    "|header|text|\n"
   ]
  },
  {
   "cell_type": "markdown",
   "id": "da3c978c",
   "metadata": {},
   "source": [
    "* ## Visualisation"
   ]
  },
  {
   "cell_type": "markdown",
   "id": "06d66480",
   "metadata": {},
   "source": [
    "* ### visualisation of 'Profit' distribution"
   ]
  },
  {
   "cell_type": "code",
   "execution_count": null,
   "id": "903b7c92",
   "metadata": {},
   "outputs": [],
   "source": [
    "#sns.displot(train['Profit'], color='g', kde=True)\n",
    "sns.histplot(train['Profit'], color='g', kde=True)"
   ]
  }
 ],
 "metadata": {
  "kernelspec": {
   "display_name": "Python 3",
   "language": "python",
   "name": "python3"
  },
  "language_info": {
   "codemirror_mode": {
    "name": "ipython",
    "version": 3
   },
   "file_extension": ".py",
   "mimetype": "text/x-python",
   "name": "python",
   "nbconvert_exporter": "python",
   "pygments_lexer": "ipython3",
   "version": "3.8.12"
  }
 },
 "nbformat": 4,
 "nbformat_minor": 5
}
