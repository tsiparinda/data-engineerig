{
 "cells": [
  {
   "cell_type": "markdown",
   "id": "superior-hebrew",
   "metadata": {},
   "source": [
    "# \"Gender.\""
   ]
  },
  {
   "cell_type": "markdown",
   "id": "searching-minute",
   "metadata": {},
   "source": [
    "### _\"Classifying gender based on personal preferences\" (Binary classification task)._"
   ]
  },
  {
   "cell_type": "markdown",
   "id": "loving-square",
   "metadata": {},
   "source": [
    "## Table of Contents\n",
    "\n",
    "\n",
    "## Part 0: Introduction\n",
    "\n",
    "### Overview\n",
    "The dataset that's we see here contains 5 columns and 66 entries of data about personal preferences based on gender.\n",
    "\n",
    "Gender is a social construct. The way males and females are treated differently since birth moulds their behaviour and personal preferences into what society expects for their gender.\n",
    "\n",
    "**Метаданные:**\n",
    "    \n",
    "* **Favorite Color** - Favorite color (colors reported by respondents were mapped to either warm, cool or neutral)\n",
    " \n",
    "* **Favorite Music Genre** - Favorite broad music genre\n",
    "\n",
    "* **Favorite Beverage** - Favorite alcoholic drink\n",
    "\n",
    "* **Favorite Soft Drink** - Favorite fizzy drink\n",
    "\n",
    "* **Gender** - Binary gender \n",
    "\n",
    "\n",
    "\n",
    "### Questions:\n",
    "    \n",
    "Predict a person's gender based on their personal preferences (check balance of classes; calculate perdictions)\n",
    "\n",
    "\n",
    "## [Part 1: Import, Load Data](#Part-1:-Import,-Load-Data.)\n",
    "* ### Import libraries, Read data from ‘.csv’ file\n",
    "\n",
    "## [Part 2: Exploratory Data Analysis](#Part-2:-Exploratory-Data-Analysis.)\n",
    "* ### Info, Head\n",
    "* ### Rename Columns\n",
    "* ### Columns visualisation\n",
    "* ### 'gender' attribute value counts \n",
    "* ### Encode the Data\n",
    "\n",
    "## [Part 3: Data Wrangling and Transformation](#Part-3:-Data-Wrangling-and-Transformation.)\n",
    "* ### Creating datasets for ML part\n",
    "* ### 'Train\\Test' splitting method\n",
    "\n",
    "## [Part 4: Machine Learning](#Part-4:-Machine-Learning.)\n",
    "* ### Build, train and evaluate model \n",
    "    * #### Logistic Regression\n",
    "    * #### Visualisation of predictions\n",
    "    * #### Classification report\n",
    "    * #### Confusion Matrix\n",
    "    * #### ROC-AUC score\n",
    "\n",
    "## [Conclusion](#Conclusion.)\n"
   ]
  },
  {
   "cell_type": "markdown",
   "id": "earlier-excerpt",
   "metadata": {},
   "source": [
    "## Part 1: Import, Load Data."
   ]
  },
  {
   "cell_type": "markdown",
   "id": "composite-training",
   "metadata": {},
   "source": [
    "* ### Import libraries"
   ]
  },
  {
   "cell_type": "code",
   "execution_count": 1,
   "id": "illegal-stockholm",
   "metadata": {
    "_cell_guid": "b1076dfc-b9ad-4769-8c92-a6c4dae69d19",
    "_uuid": "8f2839f25d086af736a60e9eeb907d3b93b6e0e5",
    "execution": {
     "iopub.execute_input": "2021-05-12T06:37:35.552073Z",
     "iopub.status.busy": "2021-05-12T06:37:35.550650Z",
     "iopub.status.idle": "2021-05-12T06:37:35.574536Z",
     "shell.execute_reply": "2021-05-12T06:37:35.575034Z"
    },
    "papermill": {
     "duration": 0.050276,
     "end_time": "2021-05-12T06:37:35.575327",
     "exception": false,
     "start_time": "2021-05-12T06:37:35.525051",
     "status": "completed"
    },
    "tags": []
   },
   "outputs": [],
   "source": [
    "# import standard libraries\n",
    "\n"
   ]
  },
  {
   "cell_type": "markdown",
   "id": "clinical-williams",
   "metadata": {
    "papermill": {
     "duration": 0.020256,
     "end_time": "2021-05-12T06:37:35.617997",
     "exception": false,
     "start_time": "2021-05-12T06:37:35.597741",
     "status": "completed"
    },
    "tags": []
   },
   "source": [
    "* ### Read data from ‘.csv’ file"
   ]
  },
  {
   "cell_type": "code",
   "execution_count": 2,
   "id": "latter-philadelphia",
   "metadata": {
    "execution": {
     "iopub.execute_input": "2021-05-12T06:37:35.662611Z",
     "iopub.status.busy": "2021-05-12T06:37:35.661903Z",
     "iopub.status.idle": "2021-05-12T06:37:35.712174Z",
     "shell.execute_reply": "2021-05-12T06:37:35.711447Z"
    },
    "papermill": {
     "duration": 0.073936,
     "end_time": "2021-05-12T06:37:35.712323",
     "exception": false,
     "start_time": "2021-05-12T06:37:35.638387",
     "status": "completed"
    },
    "tags": []
   },
   "outputs": [],
   "source": [
    "# read data from '.csv' file\n"
   ]
  },
  {
   "cell_type": "markdown",
   "id": "infinite-grain",
   "metadata": {},
   "source": [
    "## Part 2: Exploratory Data Analysis."
   ]
  },
  {
   "cell_type": "markdown",
   "id": "local-grant",
   "metadata": {
    "papermill": {
     "duration": 0.021453,
     "end_time": "2021-05-12T06:37:35.942783",
     "exception": false,
     "start_time": "2021-05-12T06:37:35.921330",
     "status": "completed"
    },
    "tags": []
   },
   "source": [
    "* ### Info"
   ]
  },
  {
   "cell_type": "code",
   "execution_count": 3,
   "id": "saved-tragedy",
   "metadata": {
    "execution": {
     "iopub.execute_input": "2021-05-12T06:37:35.995840Z",
     "iopub.status.busy": "2021-05-12T06:37:35.994818Z",
     "iopub.status.idle": "2021-05-12T06:37:35.999418Z",
     "shell.execute_reply": "2021-05-12T06:37:35.998890Z"
    },
    "papermill": {
     "duration": 0.034193,
     "end_time": "2021-05-12T06:37:35.999559",
     "exception": false,
     "start_time": "2021-05-12T06:37:35.965366",
     "status": "completed"
    },
    "scrolled": true,
    "tags": []
   },
   "outputs": [],
   "source": [
    "# print the full summary of the dataset  \n"
   ]
  },
  {
   "cell_type": "markdown",
   "id": "informational-adoption",
   "metadata": {},
   "source": [
    "Dataset consists of 66 rows and 5 columns;\n",
    "\n",
    "has 1 datatype: object(5);\n",
    "\n",
    "has no missing values."
   ]
  },
  {
   "cell_type": "markdown",
   "id": "educational-occupation",
   "metadata": {},
   "source": [
    "* ### Head"
   ]
  },
  {
   "cell_type": "code",
   "execution_count": 4,
   "id": "cathedral-police",
   "metadata": {},
   "outputs": [],
   "source": [
    "# preview of the first 5 lines of the loaded data \n"
   ]
  },
  {
   "cell_type": "markdown",
   "id": "applicable-butter",
   "metadata": {},
   "source": [
    "* ### Rename Columns"
   ]
  },
  {
   "cell_type": "code",
   "execution_count": 5,
   "id": "narrative-worship",
   "metadata": {
    "scrolled": true
   },
   "outputs": [],
   "source": [
    "# columns rename\n"
   ]
  },
  {
   "cell_type": "markdown",
   "id": "mexican-rally",
   "metadata": {},
   "source": [
    "* ### Columns visualisation"
   ]
  },
  {
   "cell_type": "code",
   "execution_count": 6,
   "id": "through-revelation",
   "metadata": {
    "scrolled": false
   },
   "outputs": [],
   "source": [
    "# columns visualisation\n"
   ]
  },
  {
   "cell_type": "markdown",
   "id": "particular-basement",
   "metadata": {},
   "source": [
    "* ### 'gender' attribute value counts "
   ]
  },
  {
   "cell_type": "code",
   "execution_count": 7,
   "id": "cosmetic-mechanics",
   "metadata": {
    "scrolled": true
   },
   "outputs": [],
   "source": [
    "# 'gender' value counts \n"
   ]
  },
  {
   "cell_type": "markdown",
   "id": "primary-agreement",
   "metadata": {},
   "source": [
    "There are 33 of 'Female' and 33 of 'Male' in our dataset. This means that our dataset is balanced."
   ]
  },
  {
   "cell_type": "markdown",
   "id": "accepted-texas",
   "metadata": {
    "papermill": {
     "duration": 0.02239,
     "end_time": "2021-05-12T06:37:36.285297",
     "exception": false,
     "start_time": "2021-05-12T06:37:36.262907",
     "status": "completed"
    },
    "tags": []
   },
   "source": [
    "* ### Encode the Data"
   ]
  },
  {
   "cell_type": "code",
   "execution_count": 8,
   "id": "particular-collect",
   "metadata": {
    "execution": {
     "iopub.execute_input": "2021-05-12T06:37:36.333225Z",
     "iopub.status.busy": "2021-05-12T06:37:36.332597Z",
     "iopub.status.idle": "2021-05-12T06:37:37.594161Z",
     "shell.execute_reply": "2021-05-12T06:37:37.593612Z"
    },
    "papermill": {
     "duration": 1.286573,
     "end_time": "2021-05-12T06:37:37.594309",
     "exception": false,
     "start_time": "2021-05-12T06:37:36.307736",
     "status": "completed"
    },
    "scrolled": true,
    "tags": []
   },
   "outputs": [],
   "source": [
    "# label encoding\n"
   ]
  },
  {
   "cell_type": "markdown",
   "id": "sorted-mining",
   "metadata": {},
   "source": [
    "## Part 3: Data Wrangling and Transformation."
   ]
  },
  {
   "cell_type": "markdown",
   "id": "received-vocabulary",
   "metadata": {
    "papermill": {
     "duration": 0.029702,
     "end_time": "2021-05-12T06:37:38.664858",
     "exception": false,
     "start_time": "2021-05-12T06:37:38.635156",
     "status": "completed"
    },
    "tags": []
   },
   "source": [
    "* ### Creating datasets for ML part"
   ]
  },
  {
   "cell_type": "code",
   "execution_count": 9,
   "id": "acute-feeding",
   "metadata": {
    "execution": {
     "iopub.execute_input": "2021-05-12T06:37:38.722329Z",
     "iopub.status.busy": "2021-05-12T06:37:38.721379Z",
     "iopub.status.idle": "2021-05-12T06:37:38.806079Z",
     "shell.execute_reply": "2021-05-12T06:37:38.807281Z"
    },
    "papermill": {
     "duration": 0.117005,
     "end_time": "2021-05-12T06:37:38.807542",
     "exception": false,
     "start_time": "2021-05-12T06:37:38.690537",
     "status": "completed"
    },
    "tags": []
   },
   "outputs": [],
   "source": [
    "# set 'X' for features' and y' for the target ('gender').\n"
   ]
  },
  {
   "cell_type": "markdown",
   "id": "known-water",
   "metadata": {},
   "source": [
    "* ### 'Train\\Test' split"
   ]
  },
  {
   "cell_type": "code",
   "execution_count": 10,
   "id": "helpful-endorsement",
   "metadata": {},
   "outputs": [],
   "source": [
    "# 'Train\\Test' splitting method\n"
   ]
  },
  {
   "cell_type": "markdown",
   "id": "central-binding",
   "metadata": {},
   "source": [
    "## Part 4: Machine Learning."
   ]
  },
  {
   "cell_type": "markdown",
   "id": "pending-glucose",
   "metadata": {},
   "source": [
    "* ### Build, train and evaluate model"
   ]
  },
  {
   "cell_type": "markdown",
   "id": "sunset-restaurant",
   "metadata": {
    "papermill": {
     "duration": 0.025229,
     "end_time": "2021-05-12T06:37:38.959430",
     "exception": false,
     "start_time": "2021-05-12T06:37:38.934201",
     "status": "completed"
    },
    "tags": []
   },
   "source": [
    "### Logistic Regression"
   ]
  },
  {
   "cell_type": "code",
   "execution_count": 11,
   "id": "signal-hurricane",
   "metadata": {
    "execution": {
     "iopub.execute_input": "2021-05-12T06:37:39.015844Z",
     "iopub.status.busy": "2021-05-12T06:37:39.015009Z",
     "iopub.status.idle": "2021-05-12T06:37:39.161675Z",
     "shell.execute_reply": "2021-05-12T06:37:39.162217Z"
    },
    "papermill": {
     "duration": 0.177869,
     "end_time": "2021-05-12T06:37:39.162420",
     "exception": false,
     "start_time": "2021-05-12T06:37:38.984551",
     "status": "completed"
    },
    "tags": []
   },
   "outputs": [],
   "source": [
    "# Logistic Regression model\n"
   ]
  },
  {
   "cell_type": "code",
   "execution_count": 12,
   "id": "nuclear-milan",
   "metadata": {},
   "outputs": [],
   "source": [
    "# LR predictions\n"
   ]
  },
  {
   "cell_type": "markdown",
   "id": "preliminary-looking",
   "metadata": {},
   "source": [
    "* ### Visualisation of predictions"
   ]
  },
  {
   "cell_type": "code",
   "execution_count": 13,
   "id": "little-republic",
   "metadata": {},
   "outputs": [],
   "source": [
    "# visual comparison between Actual 'Gender' and Predicted 'Gender'\n"
   ]
  },
  {
   "cell_type": "markdown",
   "id": "single-chest",
   "metadata": {},
   "source": [
    "* ### Classification report"
   ]
  },
  {
   "cell_type": "code",
   "execution_count": 14,
   "id": "blank-horse",
   "metadata": {
    "scrolled": false
   },
   "outputs": [],
   "source": [
    "# classification report of LR model\n"
   ]
  },
  {
   "cell_type": "markdown",
   "id": "direct-planner",
   "metadata": {},
   "source": [
    "* ### Confusion matrix"
   ]
  },
  {
   "cell_type": "code",
   "execution_count": 15,
   "id": "specific-variety",
   "metadata": {},
   "outputs": [],
   "source": [
    "# confusion matrix of LR model\n",
    "\n",
    "\n",
    "# visualisation\n",
    " "
   ]
  },
  {
   "cell_type": "markdown",
   "id": "tropical-superintendent",
   "metadata": {},
   "source": [
    "* ### ROC-AUC score"
   ]
  },
  {
   "cell_type": "code",
   "execution_count": 16,
   "id": "outer-council",
   "metadata": {
    "scrolled": false
   },
   "outputs": [],
   "source": [
    "# ROC-AUC score of LR model\n"
   ]
  },
  {
   "cell_type": "markdown",
   "id": "coral-organ",
   "metadata": {},
   "source": [
    "##  Conclusion."
   ]
  },
  {
   "cell_type": "markdown",
   "id": "legendary-poster",
   "metadata": {},
   "source": [
    "**The main question** was: Predict a person's gender based on their personal preferences (check balance of classes; calculate perdictions).\n",
    "\n",
    "**Answers**: \n",
    "\n",
    "1. The data is too small. Only 66 instances.\n",
    "\n",
    "2. The classes are balanced.\n",
    "\n",
    "3. Logistic Regression model was choosen. Predictions (with visual comparison) were done with an accuracy of the model equal 0.7, no hyper parameters were applied."
   ]
  },
  {
   "cell_type": "code",
   "execution_count": null,
   "id": "generic-reading",
   "metadata": {},
   "outputs": [],
   "source": []
  }
 ],
 "metadata": {
  "kernelspec": {
   "display_name": "Python 3",
   "language": "python",
   "name": "python3"
  },
  "language_info": {
   "codemirror_mode": {
    "name": "ipython",
    "version": 3
   },
   "file_extension": ".py",
   "mimetype": "text/x-python",
   "name": "python",
   "nbconvert_exporter": "python",
   "pygments_lexer": "ipython3",
   "version": "3.9.1"
  },
  "papermill": {
   "default_parameters": {},
   "duration": 12.03125,
   "end_time": "2021-05-12T06:37:40.714635",
   "environment_variables": {},
   "exception": null,
   "input_path": "__notebook__.ipynb",
   "output_path": "__notebook__.ipynb",
   "parameters": {},
   "start_time": "2021-05-12T06:37:28.683385",
   "version": "2.3.2"
  }
 },
 "nbformat": 4,
 "nbformat_minor": 5
}
